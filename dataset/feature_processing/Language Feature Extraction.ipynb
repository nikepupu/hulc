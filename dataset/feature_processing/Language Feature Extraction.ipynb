{
 "cells": [
  {
   "cell_type": "code",
   "execution_count": 3,
   "id": "60b9645b-5a5a-43c8-81df-194354e6761c",
   "metadata": {},
   "outputs": [],
   "source": [
    "import torch\n",
    "import json\n",
    "from tqdm import tqdm\n",
    "from pathlib import Path\n",
    "\n",
    "from sentence_transformers import SentenceTransformer"
   ]
  },
  {
   "cell_type": "code",
   "execution_count": 7,
   "id": "ccddd7a6-e5ec-47bb-a5b2-3ed2678f48fb",
   "metadata": {},
   "outputs": [],
   "source": [
    "# file loading\n",
    "path = Path('../../dataset/pickup_object/')\n",
    "folders = sorted(list(filter(lambda x: x.is_dir(), path.glob('*'))))\n",
    "missions_jsons = [folder / 'mission.json' for folder in folders]\n",
    "\n",
    "loaded_jsons = []\n",
    "\n",
    "for mission in missions_jsons:\n",
    "    with open(mission) as f:\n",
    "        data = json.load(f)\n",
    "    loaded_jsons.append(data)"
   ]
  },
  {
   "cell_type": "code",
   "execution_count": 14,
   "id": "083baf1a-af4d-4f93-a742-adb53f72869a",
   "metadata": {},
   "outputs": [],
   "source": [
    "# model_name = \"all-distilroberta-v1\"\n",
    "model_name = 'all-MiniLM-L12-v2'\n",
    "model = SentenceTransformer(model_name)"
   ]
  },
  {
   "cell_type": "code",
   "execution_count": 15,
   "id": "93b0c72a-de9d-4507-8bb8-7cb7d18c6d5d",
   "metadata": {},
   "outputs": [],
   "source": [
    "model = model.cuda()"
   ]
  },
  {
   "cell_type": "code",
   "execution_count": 17,
   "id": "901ff0fb-eed1-43aa-8458-bc703dbf320d",
   "metadata": {},
   "outputs": [
    {
     "name": "stderr",
     "output_type": "stream",
     "text": [
      "469it [00:04, 105.49it/s]\n"
     ]
    }
   ],
   "source": [
    "# feature extraction\n",
    "with torch.no_grad():\n",
    "    for index, data in tqdm(enumerate(loaded_jsons)):\n",
    "        sentence_embeddings = model.encode(data['language_annotation'])\n",
    "        save_path = missions_jsons[index].parent / 'language_embedding.pt'\n",
    "        torch.save(sentence_embeddings, save_path)"
   ]
  },
  {
   "cell_type": "code",
   "execution_count": null,
   "id": "04849441-e082-47c1-83ab-2f4ad42e3f6c",
   "metadata": {},
   "outputs": [],
   "source": []
  }
 ],
 "metadata": {
  "kernelspec": {
   "display_name": "Python 3 (ipykernel)",
   "language": "python",
   "name": "python3"
  },
  "language_info": {
   "codemirror_mode": {
    "name": "ipython",
    "version": 3
   },
   "file_extension": ".py",
   "mimetype": "text/x-python",
   "name": "python",
   "nbconvert_exporter": "python",
   "pygments_lexer": "ipython3",
   "version": "3.9.7"
  }
 },
 "nbformat": 4,
 "nbformat_minor": 5
}
