{
 "cells": [
  {
   "cell_type": "code",
   "execution_count": 1,
   "id": "61d37e71-a838-4cfd-b420-2511294719b9",
   "metadata": {},
   "outputs": [],
   "source": [
    "import argparse\n",
    "import os\n",
    "import json\n",
    "import sys\n",
    "import glob\n",
    "import random"
   ]
  },
  {
   "cell_type": "code",
   "execution_count": 2,
   "id": "331c3872-cf39-4fcc-b332-f9bc8814ce0b",
   "metadata": {},
   "outputs": [],
   "source": [
    "task = \"pickup_object_debug\"\n",
    "path = \"pickup_object_debug\""
   ]
  },
  {
   "cell_type": "code",
   "execution_count": 3,
   "id": "ca07c896-dc7e-489e-bd40-549e99625393",
   "metadata": {},
   "outputs": [],
   "source": [
    "files = glob.glob(task + \"/*\")"
   ]
  },
  {
   "cell_type": "code",
   "execution_count": 4,
   "id": "d0fe226d-31e8-4117-9b92-d407dbdb8e70",
   "metadata": {},
   "outputs": [],
   "source": [
    "house_ids = set()\n",
    "\n",
    "training_set = []\n",
    "scene_generalization_set = []\n",
    "object_generalization_set = []\n",
    "hard_generalization_set = []\n",
    "\n",
    "for file in files:\n",
    "    tmp = file.split('-')\n",
    "    annotator = tmp[0]\n",
    "    task_id = int(tmp[2])\n",
    " \n",
    "    house_id = int(tmp[5])\n",
    "    # house_ids.add(house_id)\n",
    "\n",
    "    if task_id <= 7 and house_id <= 15:\n",
    "        training_set.append(file)\n",
    "   \n",
    "    elif task_id >= 8 and house_id >= 16:\n",
    "        hard_generalization_set.append(file)\n",
    "    elif task_id >= 8:\n",
    "        object_generalization_set.append(file)\n",
    "    elif house_id >= 16:\n",
    "        scene_generalization_set.append(file)\n",
    "    else:\n",
    "        print(\"error\")\n",
    "        exit()"
   ]
  },
  {
   "cell_type": "code",
   "execution_count": 5,
   "id": "a38fd22f-9bc9-409a-81ba-acca9b1888ce",
   "metadata": {},
   "outputs": [],
   "source": [
    "random.seed(42)\n",
    "random.shuffle(training_set)"
   ]
  },
  {
   "cell_type": "code",
   "execution_count": 6,
   "id": "305e42df-9862-4378-beb9-65a7c6d60610",
   "metadata": {},
   "outputs": [],
   "source": [
    "valid_set = training_set[:20]\n",
    "training_set = training_set[20:]"
   ]
  },
  {
   "cell_type": "code",
   "execution_count": 7,
   "id": "bab7e011-1890-42ed-b214-7edaed8f6c28",
   "metadata": {},
   "outputs": [
    {
     "name": "stdout",
     "output_type": "stream",
     "text": [
      "training:  265\n",
      "validation:  20\n",
      "object_generalization:  104\n",
      "scene_generalization:  60\n",
      "hard generalization (not used):  20\n"
     ]
    }
   ],
   "source": [
    "print('training: ', len(training_set) )\n",
    "print('validation: ', len(valid_set) )\n",
    "print('object_generalization: ',  len(object_generalization_set) )\n",
    "print('scene_generalization: ', len(scene_generalization_set))\n",
    "print(\"hard generalization (not used): \", len(hard_generalization_set))"
   ]
  },
  {
   "cell_type": "code",
   "execution_count": 8,
   "id": "cec6003b-a582-493b-91aa-4ce970e538f6",
   "metadata": {},
   "outputs": [],
   "source": [
    "json_file = {\n",
    "    'training': training_set,\n",
    "    'validation': valid_set,\n",
    "    'object_generalization': object_generalization_set,\n",
    "    'scene_generalization': scene_generalization_set,\n",
    "    'hard_generalization: ': hard_generalization_set,\n",
    "}\n",
    "\n",
    "with open(task + '_split.json' ,'w') as f:\n",
    "    json.dump(json_file, f)"
   ]
  }
 ],
 "metadata": {
  "kernelspec": {
   "display_name": "Python 3 (ipykernel)",
   "language": "python",
   "name": "python3"
  },
  "language_info": {
   "codemirror_mode": {
    "name": "ipython",
    "version": 3
   },
   "file_extension": ".py",
   "mimetype": "text/x-python",
   "name": "python",
   "nbconvert_exporter": "python",
   "pygments_lexer": "ipython3",
   "version": "3.9.7"
  }
 },
 "nbformat": 4,
 "nbformat_minor": 5
}
